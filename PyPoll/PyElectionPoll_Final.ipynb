{
 "cells": [
  {
   "cell_type": "code",
   "execution_count": 4,
   "id": "0c3c50d7",
   "metadata": {},
   "outputs": [
    {
     "name": "stdout",
     "output_type": "stream",
     "text": [
      "Election Results\n",
      "------------------------------\n",
      "Total Votes: 369711\n",
      "------------------------------\n",
      "Charles Casper Stockham: 23.049% (85213)\n",
      "Diana DeGette:  73.812%  (272892)\n",
      "Raymon Anthony Doane:  3.139%  (11606)\n",
      "------------------------------\n",
      "Winner: Diana DeGette\n",
      "------------------------------\n",
      "\n"
     ]
    }
   ],
   "source": [
    "#Dependancies\n",
    "import os\n",
    "import csv\n",
    "\n",
    "load_ElectionDataFile = os.path.join(\".\",\"Resources\",\"election_data.csv\")\n",
    "electionResults_Output =  os.path.join (\".\",\"electionResults_Output.txt\")\n",
    "\n",
    "#initialize variables for loop\n",
    "counter = 0\n",
    "ccs_Counter = 0\n",
    "dd_Counter = 0\n",
    "rad_Counter = 0\n",
    "winning_vote = 0\n",
    "winning_candidate = \"\"\n",
    "candidate_Counterlist = [\"\",\"\"]\n",
    "candidate_FullCounterlist = []\n",
    "candidate_votes = {}\n",
    "\n",
    "with open(load_ElectionDataFile) as ED_File:\n",
    "    read_ED = csv.reader(ED_File)\n",
    "    header = next(read_ED) #skiphead\n",
    "    \n",
    "    for row in  read_ED :\n",
    "        counter += 1\n",
    "        \n",
    "        #candidate = row[2]\n",
    "        if(row[2]==\"Charles Casper Stockham\"):\n",
    "            ccs_Counter += 1\n",
    "            candidate_Counterlist[0] = row[2]\n",
    "            candidate_Counterlist[1] = ccs_Counter\n",
    "            candidate_FullCounterlist.append(candidate_Counterlist[0])\n",
    "            candidate_votes[row[2]] = ccs_Counter\n",
    "        elif(row[2]==\"Diana DeGette\"):\n",
    "            dd_Counter += 1\n",
    "            candidate_votes[row[2]] = dd_Counter\n",
    "            #candidate_Counterlist[0] = row[2]\n",
    "            #candidate_Counterlist[1] = dd_Counter\n",
    "        elif(row[2]==\"Raymon Anthony Doane\"):\n",
    "            rad_Counter += 1\n",
    "            candidate_votes[row[2]] = rad_Counter\n",
    "            \n",
    "              \n",
    "      \n",
    "    else:\n",
    "        \n",
    "        for candidate in candidate_votes:\n",
    "            votes = candidate_votes[candidate]\n",
    "            \n",
    "            if(votes > winning_vote):\n",
    "                winning_vote = votes\n",
    "                winning_candidate = candidate\n",
    "    \n",
    "        output_ED = (f\"Election Results\\n\"\n",
    "                     f\"------------------------------\\n\"\n",
    "                     f\"Total Votes: {counter}\\n\"\n",
    "                     f\"------------------------------\\n\"\n",
    "                     f\"Charles Casper Stockham: {round((int(ccs_Counter) / int(counter))*100, 3)}% ({ccs_Counter})\\n\"\n",
    "                     f\"Diana DeGette:  {round((int(dd_Counter) / int(counter))*100, 3)}%  ({dd_Counter})\\n\"\n",
    "                     f\"Raymon Anthony Doane:  {round((int(rad_Counter) / int(counter))*100, 3)}%  ({rad_Counter})\\n\"\n",
    "                     f\"------------------------------\\n\"\n",
    "                     f\"Winner: {winning_candidate}\\n\"\n",
    "                     f\"------------------------------\\n\"\n",
    "                     \n",
    "                     \n",
    "                    )\n",
    "        print(output_ED)\n",
    "        \n",
    "with open(electionResults_Output , \"w\") as txt_file:\n",
    "        txt_file.write(output_ED)\n",
    "        \n"
   ]
  },
  {
   "cell_type": "code",
   "execution_count": null,
   "id": "13dcbef2",
   "metadata": {},
   "outputs": [],
   "source": []
  },
  {
   "cell_type": "code",
   "execution_count": null,
   "id": "36f0e96c",
   "metadata": {},
   "outputs": [],
   "source": []
  }
 ],
 "metadata": {
  "kernelspec": {
   "display_name": "Python 3 (ipykernel)",
   "language": "python",
   "name": "python3"
  },
  "language_info": {
   "codemirror_mode": {
    "name": "ipython",
    "version": 3
   },
   "file_extension": ".py",
   "mimetype": "text/x-python",
   "name": "python",
   "nbconvert_exporter": "python",
   "pygments_lexer": "ipython3",
   "version": "3.9.13"
  }
 },
 "nbformat": 4,
 "nbformat_minor": 5
}
