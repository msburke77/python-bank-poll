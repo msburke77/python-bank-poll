{
 "cells": [
  {
   "cell_type": "code",
   "execution_count": 9,
   "id": "c03c8868",
   "metadata": {},
   "outputs": [
    {
     "name": "stdout",
     "output_type": "stream",
     "text": [
      "Financial Analysis\n",
      "------------------------------\n",
      "Total Months: 86\n",
      "Total: $22564198\n",
      "Average Change: $-8214.47\n",
      "Greatest Increase in Profits: Aug-16 ($1862002)\n",
      "Greatest Decrease in Profits: Feb-14 ($-1825558)\n",
      "\n"
     ]
    }
   ],
   "source": [
    "import os\n",
    "import csv\n",
    "\n",
    "#Get File and load data into reader variable\n",
    "\n",
    "load_DataFile = os.path.join(\".\",\"Resources\",\"budget_data.csv\")\n",
    "load_outputDF = os.path.join(\".\",\"ProfitLoss_Output.txt\")\n",
    "\n",
    "with open(load_DataFile) as ProfitLoss_Data:\n",
    "    read_CSVData = csv.reader(ProfitLoss_Data)\n",
    "    header = next(read_CSVData)   #To skip header row \n",
    " \n",
    "    \n",
    "    #initialize variables for loop\n",
    "    counter = 0\n",
    "    total_net = 0\n",
    "    change_list = []\n",
    "    \n",
    "    \n",
    "    greatest = [\"\",0]\n",
    "    least = [\"\",9999999] \n",
    "    \n",
    "    \n",
    "  \n",
    "    #loop thru data\n",
    "    \n",
    "    for data in read_CSVData:\n",
    "        \n",
    "        counter = counter + 1\n",
    "        while(counter<=1):\n",
    "            prv_row = int(data[1])\n",
    "            break\n",
    "        total_net += int(data[1]) #adding each amount in second column\n",
    "        \n",
    "        total_change = int(data[1]) -  prv_row\n",
    "        prv_row = int(data[1])\n",
    "        change_list.append(total_change)\n",
    "        \n",
    "        #Searching for greatest amount\n",
    "        if(total_change  > greatest[1]):\n",
    "            greatest[0] = data[0]  \n",
    "            greatest[1] = total_change  \n",
    "          \n",
    "         #Searching for least amount\n",
    "        if(total_change  < least[1]):\n",
    "            least[0] = data[0]  \n",
    "            least[1] = total_change\n",
    "        \n",
    "    else:\n",
    "        output_data= (f\"Financial Analysis\\n\"\n",
    "              f\"------------------------------\\n\"\n",
    "              f\"Total Months: {counter}\\n\"\n",
    "              f\"Total: ${total_net}\\n\"\n",
    "              f\"Average Change: ${round(sum(change_list)/len(change_list),2)}\\n\" #len(change_list)=86 this is dividing the sum by 86 (not 85)\n",
    "              f\"Greatest Increase in Profits: {greatest[0]} (${greatest[1]})\\n\"\n",
    "              f\"Greatest Decrease in Profits: {least[0]} (${least[1]})\\n\" \n",
    "             )\n",
    "        print(output_data)\n",
    "        \n",
    "    with open(load_outputDF, \"w\") as txt_file:\n",
    "        txt_file.write(output_data)\n"
   ]
  }
 ],
 "metadata": {
  "kernelspec": {
   "display_name": "Python 3 (ipykernel)",
   "language": "python",
   "name": "python3"
  },
  "language_info": {
   "codemirror_mode": {
    "name": "ipython",
    "version": 3
   },
   "file_extension": ".py",
   "mimetype": "text/x-python",
   "name": "python",
   "nbconvert_exporter": "python",
   "pygments_lexer": "ipython3",
   "version": "3.9.13"
  }
 },
 "nbformat": 4,
 "nbformat_minor": 5
}
